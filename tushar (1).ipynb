{
 "cells": [
  {
   "cell_type": "code",
   "execution_count": 28,
   "metadata": {
    "collapsed": false
   },
   "outputs": [
    {
     "name": "stdout",
     "output_type": "stream",
     "text": [
      "0.03212474\n"
     ]
    }
   ],
   "source": [
    "import urllib.request\n",
    "import json\n",
    "\n",
    "data = {\n",
    "        \"Inputs\": {\n",
    "                \"input1\":\n",
    "                [\n",
    "                    {\n",
    "                            'parcelid': \"14297519\",   \n",
    "                            'logerror': \"0.025594901758400002\",   \n",
    "                            'transactiondate': \"2017-01-01T00:00:00Z\",   \n",
    "                            'airconditioningtypeid': \"5\",   \n",
    "                            'bathroomcnt': \"3.5\",   \n",
    "                            'bedroomcnt': \"4\",   \n",
    "                            'buildingqualitytypeid': \"7\",   \n",
    "                            'calculatedfinishedsquarefeet': \"3100\",   \n",
    "                            'fips': \"6059\",   \n",
    "                            'fireplacecnt': \"0\",   \n",
    "                            'garagecarcnt': \"2\",   \n",
    "                            'garagetotalsqft': \"633\",   \n",
    "                            'heatingorsystemtypeid': \"2\",   \n",
    "                            'latitude': \"33634931\",   \n",
    "                            'longitude': \"-117869207\",   \n",
    "                            'lotsizesquarefeet': \"4506\",   \n",
    "                            'poolcnt': \"0\",   \n",
    "                            'pooltypeid2': \"0\",   \n",
    "                            'pooltypeid7': \"0\",   \n",
    "                            'propertycountylandusecode': \"71\",   \n",
    "                            'propertylandusetypeid': \"261\",   \n",
    "                            'propertyzoningdesc': \"788\",   \n",
    "                            'rawcensustractandblock': \"60590630.072012\",   \n",
    "                            'regionidcity': \"53571\",   \n",
    "                            'regionidcounty': \"1286\",   \n",
    "                            'regionidneighborhood': \"28119\",   \n",
    "                            'regionidzip': \"96978\",   \n",
    "                            'roomcnt': \"0\",   \n",
    "                            'threequarterbathnbr': \"1\",   \n",
    "                            'unitcnt': \"2\",   \n",
    "                            'yearbuilt': \"1998\",   \n",
    "                            'structuretaxvaluedollarcnt': \"485713\",   \n",
    "                            'taxvaluedollarcnt': \"1023282\",   \n",
    "                            'assessmentyear': \"2016\",   \n",
    "                            'landtaxvaluedollarcnt': \"537569\",   \n",
    "                            'taxamount': \"11013.72\",   \n",
    "                            'taxdelinquencyflag': \"0\",   \n",
    "                            'taxdelinquencyyear': \"0\",   \n",
    "                            'year': \"2017\",   \n",
    "                            'time_month': \"1\",   \n",
    "                    }\n",
    "                ],\n",
    "    \n",
    "    \"GlobalParameters\":  {\n",
    "     }\n",
    "}\n",
    "\n",
    "body = str.encode(json.dumps(data))\n",
    "\n",
    "url = 'https://ussouthcentral.services.azureml.net/workspaces/d904bbdcfe384a06a037b26cf8651f38/services/50677d53290b468b9ecf7ace64b85088/execute?api-version=2.0&format=swagger'\n",
    "api_key = 's0Q934NkFmPI9gqGg85/U1QjcDWdm5N1LtcOvmLc9hycF/JLmx6TlTtJ9jYa0veZmBktRDtvQz6Fv0zS1MA9qg==' # Replace this with the API key for the web service\n",
    "headers = {'Content-Type':'application/json', 'Authorization':('Bearer '+ api_key)}\n",
    "\n",
    "req = urllib.request.Request(url, body, headers)\n",
    "\n",
    "try:\n",
    "    response = urllib.request.urlopen(req)\n",
    "\n",
    "    result = response.read()\n",
    "    r=str(result)\n",
    "    ind=r.rfind(\"Mean\")\n",
    "    indfin=ind+7\n",
    "    print(r[indfin:indfin+10])\n",
    "except urllib.error.HTTPError as error:\n",
    "    print(\"The request failed with status code: \" + str(error.code))\n",
    "\n",
    "    # Print the headers - they include the requert ID and the timestamp, which are useful for debugging the failure\n",
    "    print(error.info())\n",
    "    print(json.loads(error.read().decode(\"utf8\", 'ignore')))\n"
   ]
  },
  {
   "cell_type": "code",
   "execution_count": null,
   "metadata": {
    "collapsed": true
   },
   "outputs": [],
   "source": []
  }
 ],
 "metadata": {
  "celltoolbar": "Edit Metadata",
  "kernelspec": {
   "display_name": "Python [conda root]",
   "language": "python",
   "name": "conda-root-py"
  },
  "language_info": {
   "codemirror_mode": {
    "name": "ipython",
    "version": 3
   },
   "file_extension": ".py",
   "mimetype": "text/x-python",
   "name": "python",
   "nbconvert_exporter": "python",
   "pygments_lexer": "ipython3",
   "version": "3.5.2"
  }
 },
 "nbformat": 4,
 "nbformat_minor": 2
}
